{
  "nbformat": 4,
  "nbformat_minor": 0,
  "metadata": {
    "colab": {
      "provenance": [],
      "authorship_tag": "ABX9TyOZTgn2JOp9ltC06nTlh+Pn",
      "include_colab_link": true
    },
    "kernelspec": {
      "name": "python3",
      "display_name": "Python 3"
    },
    "language_info": {
      "name": "python"
    }
  },
  "cells": [
    {
      "cell_type": "markdown",
      "metadata": {
        "id": "view-in-github",
        "colab_type": "text"
      },
      "source": [
        "<a href=\"https://colab.research.google.com/github/gutembergue-martins/awesome-chatgpt-prompts/blob/main/Transfer_Learning_DIO_BootCamp.ipynb\" target=\"_parent\"><img src=\"https://colab.research.google.com/assets/colab-badge.svg\" alt=\"Open In Colab\"/></a>"
      ]
    },
    {
      "cell_type": "code",
      "source": [
        "!pip install Pillow"
      ],
      "metadata": {
        "colab": {
          "base_uri": "https://localhost:8080/"
        },
        "id": "aZQDY_jMF-pa",
        "outputId": "1a427f91-de50-4f63-d0a1-e8f5431fec44"
      },
      "execution_count": 50,
      "outputs": [
        {
          "output_type": "stream",
          "name": "stdout",
          "text": [
            "Requirement already satisfied: Pillow in /usr/local/lib/python3.11/dist-packages (11.1.0)\n"
          ]
        }
      ]
    },
    {
      "cell_type": "code",
      "execution_count": 51,
      "metadata": {
        "id": "3DO3xydpQyhh"
      },
      "outputs": [],
      "source": [
        "import os\n",
        "import zipfile\n",
        "import random\n",
        "import tensorflow as tf\n",
        "from tensorflow.keras.optimizers import RMSprop\n",
        "from tensorflow.keras.utils import image_dataset_from_directory\n",
        "from tensorflow.keras.preprocessing.image import ImageDataGenerator\n",
        "from shutil import copyfile\n",
        "from PIL import Image\n",
        "\n"
      ]
    },
    {
      "cell_type": "code",
      "source": [
        "# Corrigindo o comando wget\n",
        "!wget --no-check-certificate \"https://download.microsoft.com/download/3/E/1/3E1C3F21-ECDB-4869-8368-6DEBA77B919F/kagglecatsanddogs_5340.zip\" -O /tmp/cats-and-dogs.zip\n",
        "\n",
        "# Extraindo o conteúdo do arquivo ZIP\n",
        "local_zip = '/tmp/cats-and-dogs.zip'\n",
        "try:\n",
        "    with zipfile.ZipFile(local_zip, 'r') as zip_ref:\n",
        "        zip_ref.extractall('/tmp')\n",
        "    print(\"Extração concluída com sucesso.\")\n",
        "except FileNotFoundError:\n",
        "    print(f\"Arquivo não encontrado: {local_zip}\")\n",
        "except zipfile.BadZipFile:\n",
        "    print(\"Erro: O arquivo ZIP está corrompido.\")\n"
      ],
      "metadata": {
        "colab": {
          "base_uri": "https://localhost:8080/"
        },
        "id": "wWxditYOUMlz",
        "outputId": "3c8bef42-eef5-4429-9298-73a8b08cc30c"
      },
      "execution_count": 20,
      "outputs": [
        {
          "output_type": "stream",
          "name": "stdout",
          "text": [
            "--2025-01-23 20:39:41--  https://download.microsoft.com/download/3/E/1/3E1C3F21-ECDB-4869-8368-6DEBA77B919F/kagglecatsanddogs_5340.zip\n",
            "Resolving download.microsoft.com (download.microsoft.com)... 23.35.190.19, 2600:1408:c400:138e::317f, 2600:1408:c400:1389::317f\n",
            "Connecting to download.microsoft.com (download.microsoft.com)|23.35.190.19|:443... connected.\n",
            "HTTP request sent, awaiting response... 200 OK\n",
            "Length: 824887076 (787M) [application/octet-stream]\n",
            "Saving to: ‘/tmp/cats-and-dogs.zip’\n",
            "\n",
            "/tmp/cats-and-dogs. 100%[===================>] 786.67M  37.4MB/s    in 26s     \n",
            "\n",
            "2025-01-23 20:40:07 (30.3 MB/s) - ‘/tmp/cats-and-dogs.zip’ saved [824887076/824887076]\n",
            "\n",
            "Extração concluída com sucesso.\n"
          ]
        }
      ]
    },
    {
      "cell_type": "code",
      "source": [
        "print(len(os.listdir('/tmp/PetImages/Cat')))\n",
        "print(len(os.listdir('/tmp/PetImages/Dog')))\n",
        "\n",
        "# Garantir que os diretórios existam\n",
        "os.makedirs('/tmp/cats-v-dogs/TEST_DIR', exist_ok=True)\n",
        "os.makedirs('/tmp/cats-v-dogs/training/cats', exist_ok=True)\n",
        "os.makedirs('/tmp/cats-v-dogs/training/dogs', exist_ok=True)\n",
        "os.makedirs('/tmp/cats-v-dogs/testing/cats', exist_ok=True)\n",
        "os.makedirs('/tmp/cats-v-dogs/testing/dogs', exist_ok=True)\n",
        "\n",
        "print(\"Diretórios criados ou já existentes.\")\n",
        "\n"
      ],
      "metadata": {
        "colab": {
          "base_uri": "https://localhost:8080/"
        },
        "id": "DMd96S4HcKa8",
        "outputId": "0300f467-7efa-4c62-9c98-c5e814151e9c"
      },
      "execution_count": 60,
      "outputs": [
        {
          "output_type": "stream",
          "name": "stdout",
          "text": [
            "12501\n",
            "12501\n",
            "Diretórios criados ou já existentes.\n"
          ]
        }
      ]
    },
    {
      "cell_type": "code",
      "source": [
        "def split_data(SOURCE, TRAINING, TESTING, SPLIT_SIZE):\n",
        "  files = []\n",
        "  for filename in os.listdir(SOURCE):\n",
        "    file = SOURCE + filename\n",
        "    if os.path.getsize(file)>0:\n",
        "      files.append(filename)\n",
        "    else:\n",
        "      print(filename + \"is zero length, so ignoring\")"
      ],
      "metadata": {
        "id": "9g4K4f8egpOX"
      },
      "execution_count": 23,
      "outputs": []
    },
    {
      "cell_type": "code",
      "source": [
        "def split_data(SOURCE, TRAINING, TESTING, SPLIT_SIZE):\n",
        "    \"\"\"\n",
        "    Divide os arquivos em diretórios de treinamento e teste.\n",
        "    \"\"\"\n",
        "    # Lista de arquivos no diretório fonte\n",
        "    files = [f for f in os.listdir(SOURCE) if os.path.isfile(os.path.join(SOURCE, f))]\n",
        "\n",
        "    if not files:\n",
        "        print(f\"Nenhum arquivo encontrado no diretório: {SOURCE}\")\n",
        "        return\n",
        "\n",
        "    # Embaralhar arquivos e dividir\n",
        "    shuffled_set = random.sample(files, len(files))\n",
        "    training_length = int(len(files) * SPLIT_SIZE)\n",
        "    training_set = shuffled_set[:training_length]\n",
        "    testing_set = shuffled_set[training_length:]\n",
        "\n",
        "    # Criar diretórios se não existirem\n",
        "    os.makedirs(TRAINING, exist_ok=True)\n",
        "    os.makedirs(TESTING, exist_ok=True)\n",
        "\n",
        "    # Copiar arquivos para os diretórios correspondentes\n",
        "    for filename in training_set:\n",
        "        copyfile(os.path.join(SOURCE, filename), os.path.join(TRAINING, filename))\n",
        "\n",
        "    for filename in testing_set:\n",
        "        copyfile(os.path.join(SOURCE, filename), os.path.join(TESTING, filename))\n",
        "\n",
        "    print(f\"Concluído para {SOURCE}: {len(training_set)} treinamento, {len(testing_set)} teste.\")\n",
        "\n",
        "# Diretórios fonte e destino\n",
        "TEST_DIR = '/tmp/cats-v-dogs/testing'\n",
        "CAT_SOURCE_DIR = '/tmp/PetImages/Cat/'\n",
        "DOG_SOURCE_DIR = '/tmp/PetImages/Dog/'\n",
        "TRAINING_CATS_DIR = '/tmp/cats-v-dogs/training/cats/'\n",
        "TESTING_CATS_DIR = '/tmp/cats-v-dogs/testing/cats/'\n",
        "TRAINING_DOGS_DIR = '/tmp/cats-v-dogs/training/dogs/'\n",
        "TESTING_DOGS_DIR = '/tmp/cats-v-dogs/testing/dogs/'\n",
        "\n",
        "# Divisão dos dados\n",
        "split_size = 0.9\n",
        "split_data(CAT_SOURCE_DIR, TRAINING_CATS_DIR, TESTING_CATS_DIR, split_size)\n",
        "split_data(DOG_SOURCE_DIR, TRAINING_DOGS_DIR, TESTING_DOGS_DIR, split_size)"
      ],
      "metadata": {
        "colab": {
          "base_uri": "https://localhost:8080/"
        },
        "id": "LIEV44kIh8Es",
        "outputId": "c9ca8f2a-8233-4656-cd3b-aab198bf7cf5"
      },
      "execution_count": 61,
      "outputs": [
        {
          "output_type": "stream",
          "name": "stdout",
          "text": [
            "Concluído para /tmp/PetImages/Cat/: 11250 treinamento, 1251 teste.\n",
            "Concluído para /tmp/PetImages/Dog/: 11250 treinamento, 1251 teste.\n"
          ]
        }
      ]
    },
    {
      "cell_type": "code",
      "source": [
        "def remove_invalid_images(directory):\n",
        "    for filename in os.listdir(directory):\n",
        "        file_path = os.path.join(directory, filename)\n",
        "        try:\n",
        "            with Image.open(file_path) as img:\n",
        "                img.verify()  # Verifica se é uma imagem válida\n",
        "        except (IOError, SyntaxError):\n",
        "            print(f\"Removendo arquivo inválido: {file_path}\")\n",
        "            os.remove(file_path)\n",
        "\n",
        "# Aplicar a verificação para os diretórios de treinamento e validação\n",
        "remove_invalid_images('/tmp/cats-v-dogs/training/cats')\n",
        "remove_invalid_images('/tmp/cats-v-dogs/training/dogs')\n",
        "remove_invalid_images('/tmp/cats-v-dogs/testing/cats')\n",
        "remove_invalid_images('/tmp/cats-v-dogs/testing/dogs')"
      ],
      "metadata": {
        "colab": {
          "base_uri": "https://localhost:8080/"
        },
        "id": "utRgXAiFDwcA",
        "outputId": "c614d092-03bc-41e3-e526-8b4bc8f9785c"
      },
      "execution_count": 52,
      "outputs": [
        {
          "output_type": "stream",
          "name": "stdout",
          "text": [
            "Removendo arquivo inválido: /tmp/cats-v-dogs/training/cats/666.jpg\n",
            "Removendo arquivo inválido: /tmp/cats-v-dogs/training/cats/Thumbs.db\n",
            "Removendo arquivo inválido: /tmp/cats-v-dogs/training/dogs/11702.jpg\n",
            "Removendo arquivo inválido: /tmp/cats-v-dogs/training/dogs/Thumbs.db\n"
          ]
        },
        {
          "output_type": "stream",
          "name": "stderr",
          "text": [
            "/usr/local/lib/python3.11/dist-packages/PIL/TiffImagePlugin.py:949: UserWarning: Truncated File Read\n",
            "  warnings.warn(str(msg))\n"
          ]
        }
      ]
    },
    {
      "cell_type": "code",
      "source": [
        "print(len(os.listdir('/tmp/cats-v-dogs/training/cats/')))\n",
        "print(len(os.listdir('/tmp/cats-v-dogs/training/dogs/')))\n",
        "print(len(os.listdir('/tmp/cats-v-dogs/testing/cats/')))\n",
        "print(len(os.listdir('/tmp/cats-v-dogs/testing/dogs/')))\n"
      ],
      "metadata": {
        "id": "YW8iPgGKtzuZ",
        "colab": {
          "base_uri": "https://localhost:8080/"
        },
        "outputId": "b998f7ba-1f9a-4eb7-a722-2798a839bd8f"
      },
      "execution_count": 53,
      "outputs": [
        {
          "output_type": "stream",
          "name": "stdout",
          "text": [
            "12445\n",
            "11248\n",
            "5337\n",
            "1251\n"
          ]
        }
      ]
    },
    {
      "cell_type": "code",
      "source": [
        "# Configurando o ImageDataGenerator para treinamento e validação\n",
        "train_datagen = ImageDataGenerator(\n",
        "    rescale=1.0/255,  # Normalizar os valores dos pixels para [0, 1]\n",
        "    rotation_range=40,\n",
        "    width_shift_range=0.2,\n",
        "    height_shift_range=0.2,\n",
        "    shear_range=0.2,\n",
        "    zoom_range=0.2,\n",
        "    horizontal_flip=True,\n",
        "    fill_mode='nearest'\n",
        ")\n",
        "\n",
        "validation_datagen = ImageDataGenerator(rescale=1.0/255)\n",
        "\n",
        "# Caminhos para os diretórios de treinamento e validação\n",
        "TRAINING_DIR = '/tmp/cats-v-dogs/training'\n",
        "VALIDATION_DIR = '/tmp/cats-v-dogs/testing'\n",
        "\n",
        "# Gerando os dados de treinamento\n",
        "train_generator = train_datagen.flow_from_directory(\n",
        "    TRAINING_DIR,\n",
        "    target_size=(150, 150),\n",
        "    batch_size=32,\n",
        "    class_mode='binary'  # Classificação binária\n",
        ")\n",
        "\n",
        "# Gerando os dados de validação\n",
        "validation_generator = validation_datagen.flow_from_directory(\n",
        "    VALIDATION_DIR,\n",
        "    target_size=(150, 150),\n",
        "    batch_size=32,\n",
        "    class_mode='binary'\n",
        ")\n"
      ],
      "metadata": {
        "colab": {
          "base_uri": "https://localhost:8080/"
        },
        "id": "sp5_eWlhBqhG",
        "outputId": "8d530f4d-55f6-4ed4-d4c1-9176fbea66e1"
      },
      "execution_count": 54,
      "outputs": [
        {
          "output_type": "stream",
          "name": "stdout",
          "text": [
            "Found 23693 images belonging to 2 classes.\n",
            "Found 6588 images belonging to 2 classes.\n"
          ]
        }
      ]
    },
    {
      "cell_type": "code",
      "source": [
        "model = tf.keras.models.Sequential([\n",
        "    tf.keras.layers.Conv2D(16, (3, 3), activation='relu', input_shape=(150, 150, 3)),\n",
        "    tf.keras.layers.MaxPool2D(2, 2),\n",
        "    tf.keras.layers.Conv2D(32, (3, 3), activation='relu'),\n",
        "    tf.keras.layers.MaxPool2D(2, 2),\n",
        "    tf.keras.layers.Conv2D(64, (3, 3), activation='relu'),\n",
        "    tf.keras.layers.MaxPool2D(2, 2),\n",
        "    tf.keras.layers.Flatten(),\n",
        "    tf.keras.layers.Dense(512, activation='relu'),\n",
        "    tf.keras.layers.Dense(1, activation='sigmoid')  # Corrigido aqui\n",
        "])\n",
        "\n",
        "model.compile(optimizer=RMSprop(learning_rate=0.001), loss='binary_crossentropy', metrics=['acc'])  # Corrigido 'br' para 'learning_rate'\n",
        "\n",
        "history = model.fit(\n",
        "    train_generator,\n",
        "    epochs=15,\n",
        "    steps_per_epoch=len(train_generator),\n",
        "    validation_data=validation_generator,\n",
        "    validation_steps=len(validation_generator)\n",
        ")\n",
        "\n"
      ],
      "metadata": {
        "id": "k2R9aLgLvPOo",
        "colab": {
          "base_uri": "https://localhost:8080/"
        },
        "outputId": "514b56b0-c134-45d9-d9cb-167efe050887"
      },
      "execution_count": 55,
      "outputs": [
        {
          "metadata": {
            "tags": null
          },
          "name": "stderr",
          "output_type": "stream",
          "text": [
            "/usr/local/lib/python3.11/dist-packages/keras/src/layers/convolutional/base_conv.py:107: UserWarning: Do not pass an `input_shape`/`input_dim` argument to a layer. When using Sequential models, prefer using an `Input(shape)` object as the first layer in the model instead.\n",
            "  super().__init__(activity_regularizer=activity_regularizer, **kwargs)\n"
          ]
        },
        {
          "metadata": {
            "tags": null
          },
          "name": "stdout",
          "output_type": "stream",
          "text": [
            "Epoch 1/15\n",
            "\u001b[1m741/741\u001b[0m \u001b[32m━━━━━━━━━━━━━━━━━━━━\u001b[0m\u001b[37m\u001b[0m \u001b[1m762s\u001b[0m 1s/step - acc: 0.5679 - loss: 0.7201 - val_acc: 0.4077 - val_loss: 1.0686\n",
            "Epoch 2/15\n",
            "\u001b[1m741/741\u001b[0m \u001b[32m━━━━━━━━━━━━━━━━━━━━\u001b[0m\u001b[37m\u001b[0m \u001b[1m0s\u001b[0m 59us/step - acc: 0.0000e+00 - loss: 0.0000e+00\n",
            "Epoch 3/15\n"
          ]
        },
        {
          "metadata": {
            "tags": null
          },
          "name": "stderr",
          "output_type": "stream",
          "text": [
            "/usr/lib/python3.11/contextlib.py:158: UserWarning: Your input ran out of data; interrupting training. Make sure that your dataset or generator can generate at least `steps_per_epoch * epochs` batches. You may need to use the `.repeat()` function when building your dataset.\n",
            "  self.gen.throw(typ, value, traceback)\n"
          ]
        },
        {
          "output_type": "stream",
          "name": "stdout",
          "text": [
            "\u001b[1m741/741\u001b[0m \u001b[32m━━━━━━━━━━━━━━━━━━━━\u001b[0m\u001b[37m\u001b[0m \u001b[1m824s\u001b[0m 1s/step - acc: 0.6834 - loss: 0.5958 - val_acc: 0.8106 - val_loss: 0.4554\n",
            "Epoch 4/15\n",
            "\u001b[1m741/741\u001b[0m \u001b[32m━━━━━━━━━━━━━━━━━━━━\u001b[0m\u001b[37m\u001b[0m \u001b[1m0s\u001b[0m 54us/step - acc: 0.0000e+00 - loss: 0.0000e+00\n",
            "Epoch 5/15\n",
            "\u001b[1m741/741\u001b[0m \u001b[32m━━━━━━━━━━━━━━━━━━━━\u001b[0m\u001b[37m\u001b[0m \u001b[1m787s\u001b[0m 1s/step - acc: 0.7123 - loss: 0.5575 - val_acc: 0.7430 - val_loss: 0.5285\n",
            "Epoch 6/15\n",
            "\u001b[1m741/741\u001b[0m \u001b[32m━━━━━━━━━━━━━━━━━━━━\u001b[0m\u001b[37m\u001b[0m \u001b[1m36s\u001b[0m 49ms/step - acc: 0.0000e+00 - loss: 0.0000e+00\n",
            "Epoch 7/15\n",
            "\u001b[1m741/741\u001b[0m \u001b[32m━━━━━━━━━━━━━━━━━━━━\u001b[0m\u001b[37m\u001b[0m \u001b[1m803s\u001b[0m 1s/step - acc: 0.7335 - loss: 0.5355 - val_acc: 0.8303 - val_loss: 0.3987\n",
            "Epoch 8/15\n",
            "\u001b[1m741/741\u001b[0m \u001b[32m━━━━━━━━━━━━━━━━━━━━\u001b[0m\u001b[37m\u001b[0m \u001b[1m0s\u001b[0m 40us/step - acc: 0.0000e+00 - loss: 0.0000e+00\n",
            "Epoch 9/15\n",
            "\u001b[1m741/741\u001b[0m \u001b[32m━━━━━━━━━━━━━━━━━━━━\u001b[0m\u001b[37m\u001b[0m \u001b[1m799s\u001b[0m 1000ms/step - acc: 0.7468 - loss: 0.5090 - val_acc: 0.8142 - val_loss: 0.4198\n",
            "Epoch 10/15\n",
            "\u001b[1m741/741\u001b[0m \u001b[32m━━━━━━━━━━━━━━━━━━━━\u001b[0m\u001b[37m\u001b[0m \u001b[1m0s\u001b[0m 61us/step - acc: 0.0000e+00 - loss: 0.0000e+00\n",
            "Epoch 11/15\n",
            "\u001b[1m741/741\u001b[0m \u001b[32m━━━━━━━━━━━━━━━━━━━━\u001b[0m\u001b[37m\u001b[0m \u001b[1m748s\u001b[0m 1s/step - acc: 0.7635 - loss: 0.4994 - val_acc: 0.7215 - val_loss: 0.6059\n",
            "Epoch 12/15\n",
            "\u001b[1m741/741\u001b[0m \u001b[32m━━━━━━━━━━━━━━━━━━━━\u001b[0m\u001b[37m\u001b[0m \u001b[1m0s\u001b[0m 44us/step - acc: 0.0000e+00 - loss: 0.0000e+00\n",
            "Epoch 13/15\n",
            "\u001b[1m741/741\u001b[0m \u001b[32m━━━━━━━━━━━━━━━━━━━━\u001b[0m\u001b[37m\u001b[0m \u001b[1m802s\u001b[0m 1s/step - acc: 0.7659 - loss: 0.4862 - val_acc: 0.7901 - val_loss: 0.4719\n",
            "Epoch 14/15\n",
            "\u001b[1m741/741\u001b[0m \u001b[32m━━━━━━━━━━━━━━━━━━━━\u001b[0m\u001b[37m\u001b[0m \u001b[1m0s\u001b[0m 44us/step - acc: 0.0000e+00 - loss: 0.0000e+00\n",
            "Epoch 15/15\n",
            "\u001b[1m741/741\u001b[0m \u001b[32m━━━━━━━━━━━━━━━━━━━━\u001b[0m\u001b[37m\u001b[0m \u001b[1m752s\u001b[0m 1s/step - acc: 0.7753 - loss: 0.4764 - val_acc: 0.7741 - val_loss: 0.4609\n"
          ]
        }
      ]
    },
    {
      "cell_type": "code",
      "source": [
        "print(f\"len(epochs): {len(epochs)}\")\n",
        "print(f\"len(acc): {len(acc)}\")\n",
        "print(f\"len(val_acc): {len(val_acc)}\")\n",
        "print(f\"len(loss): {len(loss)}\")\n",
        "print(f\"len(val_loss): {len(val_loss)}\")\n"
      ],
      "metadata": {
        "colab": {
          "base_uri": "https://localhost:8080/"
        },
        "id": "LEAPtEkRh7zq",
        "outputId": "dd605584-8500-44ca-b09d-db2a2179d3e0"
      },
      "execution_count": 57,
      "outputs": [
        {
          "output_type": "stream",
          "name": "stdout",
          "text": [
            "len(epochs): 15\n",
            "len(acc): 15\n",
            "len(val_acc): 8\n",
            "len(loss): 15\n",
            "len(val_loss): 8\n"
          ]
        }
      ]
    },
    {
      "cell_type": "code",
      "source": [
        "%matplotlib inline\n",
        "\n",
        "import matplotlib.image as mpimg\n",
        "import matplotlib.pyplot as plt\n",
        "\n",
        "# Determinar o menor comprimento comum\n",
        "min_length = min(len(acc), len(val_acc))\n",
        "\n",
        "# Ajustar as listas para o menor comprimento\n",
        "epochs = epochs[:min_length]\n",
        "acc = acc[:min_length]\n",
        "val_acc = val_acc[:min_length]\n",
        "loss = loss[:min_length]\n",
        "val_loss = val_loss[:min_length]\n",
        "\n",
        "# Plotar gráficos ajustados\n",
        "plt.plot(epochs, acc, 'r', label='Training Accuracy')\n",
        "plt.plot(epochs, val_acc, 'b', label='Validation Accuracy')\n",
        "plt.legend()\n",
        "plt.figure()\n",
        "\n",
        "plt.plot(epochs, loss, 'r', label='Training Loss')\n",
        "plt.plot(epochs, val_loss, 'b', label='Validation Loss')\n",
        "plt.legend()\n",
        "plt.show()\n"
      ],
      "metadata": {
        "id": "rHcd8b1Rxhv4",
        "colab": {
          "base_uri": "https://localhost:8080/",
          "height": 843
        },
        "outputId": "ced8536b-836e-4e9b-d6b1-a21b87f80191"
      },
      "execution_count": 58,
      "outputs": [
        {
          "output_type": "display_data",
          "data": {
            "text/plain": [
              "<Figure size 640x480 with 1 Axes>"
            ],
            "image/png": "[encoded data removed]"
          },
          "metadata": {}
        },
        {
          "output_type": "display_data",
          "data": {
            "text/plain": [
              "<Figure size 640x480 with 1 Axes>"
            ],
            "image/png": "[encoded data removed]"
          },
          "metadata": {}
        }
      ]
    },
    {
      "cell_type": "code",
      "source": [
        "# Definindo o diretório de teste\n",
        "TEST_DIR = '/tmp/cats-v-dogs/testing'\n",
        "\n",
        "# Criando o ImageDataGenerator para normalizar as imagens\n",
        "test_datagen = ImageDataGenerator(rescale=1./255)\n",
        "\n",
        "# Criando o gerador de dados para teste\n",
        "test_generator = test_datagen.flow_from_directory(\n",
        "    TEST_DIR,\n",
        "    target_size=(150, 150),  # Tamanho da imagem que o modelo espera\n",
        "    batch_size=20,\n",
        "    class_mode='binary'  # Como é um problema binário (gato ou cachorro)\n",
        ")\n",
        "\n",
        "# Agora você pode usar o test_generator na função evaluate\n",
        "test_loss, test_acc = model.evaluate(test_generator)\n",
        "print(f\"Test Accuracy: {test_acc:.2f}\")\n",
        "\n"
      ],
      "metadata": {
        "colab": {
          "base_uri": "https://localhost:8080/"
        },
        "id": "yeS6XWATkTKM",
        "outputId": "26891491-353c-4349-f933-351f159bc0f6"
      },
      "execution_count": 63,
      "outputs": [
        {
          "output_type": "stream",
          "name": "stdout",
          "text": [
            "Found 8428 images belonging to 2 classes.\n",
            "\u001b[1m  1/422\u001b[0m \u001b[37m━━━━━━━━━━━━━━━━━━━━\u001b[0m \u001b[1m1:47\u001b[0m 255ms/step - acc: 0.7000 - loss: 0.4580"
          ]
        },
        {
          "output_type": "stream",
          "name": "stderr",
          "text": [
            "/usr/local/lib/python3.11/dist-packages/keras/src/trainers/data_adapters/py_dataset_adapter.py:122: UserWarning: Your `PyDataset` class should call `super().__init__(**kwargs)` in its constructor. `**kwargs` can include `workers`, `use_multiprocessing`, `max_queue_size`. Do not pass these arguments to `fit()`, as they will be ignored.\n",
            "  self._warn_if_super_not_called()\n"
          ]
        },
        {
          "output_type": "stream",
          "name": "stdout",
          "text": [
            "\u001b[1m422/422\u001b[0m \u001b[32m━━━━━━━━━━━━━━━━━━━━\u001b[0m\u001b[37m\u001b[0m \u001b[1m61s\u001b[0m 145ms/step - acc: 0.7897 - loss: 0.4394\n",
            "Test Accuracy: 0.79\n"
          ]
        }
      ]
    }
  ]
}